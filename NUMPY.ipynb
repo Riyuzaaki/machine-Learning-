{
 "cells": [
  {
   "cell_type": "code",
   "execution_count": null,
   "metadata": {},
   "outputs": [],
   "source": [
    "#https://docs.scipy.org/doc/numpy/user/quickstart.html"
   ]
  },
  {
   "cell_type": "code",
   "execution_count": 1,
   "metadata": {},
   "outputs": [
    {
     "name": "stdout",
     "output_type": "stream",
     "text": [
      "[1 2 3 4 5]\n"
     ]
    }
   ],
   "source": [
    "#creating array\n",
    "import numpy as np\n",
    "a = np.array([1,2,3,4,5])\n",
    "print(a)"
   ]
  },
  {
   "cell_type": "code",
   "execution_count": 4,
   "metadata": {},
   "outputs": [
    {
     "name": "stdout",
     "output_type": "stream",
     "text": [
      "                                          Country Name Country Code  \\\n",
      "0                                          Afghanistan          AFG   \n",
      "1                                               Angola          AGO   \n",
      "2                                              Albania          ALB   \n",
      "3                                           Arab World          ARB   \n",
      "4                                 United Arab Emirates          ARE   \n",
      "5                                            Argentina          ARG   \n",
      "6                                              Armenia          ARM   \n",
      "7                                            Australia          AUS   \n",
      "8                                              Austria          AUT   \n",
      "9                                           Azerbaijan          AZE   \n",
      "10                                             Burundi          BDI   \n",
      "11                                             Belgium          BEL   \n",
      "12                                               Benin          BEN   \n",
      "13                                        Burkina Faso          BFA   \n",
      "14                                          Bangladesh          BGD   \n",
      "15                                            Bulgaria          BGR   \n",
      "16                                             Bahrain          BHR   \n",
      "17                                        Bahamas, The          BHS   \n",
      "18                              Bosnia and Herzegovina          BIH   \n",
      "19                                             Belarus          BLR   \n",
      "20                                              Belize          BLZ   \n",
      "21                                             Bolivia          BOL   \n",
      "22                                              Brazil          BRA   \n",
      "23                                            Barbados          BRB   \n",
      "24                                   Brunei Darussalam          BRN   \n",
      "25                                              Bhutan          BTN   \n",
      "26                                            Botswana          BWA   \n",
      "27                            Central African Republic          CAF   \n",
      "28                                              Canada          CAN   \n",
      "29                      Central Europe and the Baltics          CEB   \n",
      "..                                                 ...          ...   \n",
      "189         East Asia & Pacific (IDA & IBRD countries)          TEA   \n",
      "190       Europe & Central Asia (IDA & IBRD countries)          TEC   \n",
      "191                                               Togo          TGO   \n",
      "192                                           Thailand          THA   \n",
      "193                                         Tajikistan          TJK   \n",
      "194                                       Turkmenistan          TKM   \n",
      "195  Latin America & the Caribbean (IDA & IBRD coun...          TLA   \n",
      "196  Middle East & North Africa (IDA & IBRD countries)          TMN   \n",
      "197                                        Timor-Leste          TLS   \n",
      "198                            South Asia (IDA & IBRD)          TSA   \n",
      "199          Sub-Saharan Africa (IDA & IBRD countries)          TSS   \n",
      "200                                Trinidad and Tobago          TTO   \n",
      "201                                            Tunisia          TUN   \n",
      "202                                             Turkey          TUR   \n",
      "203                                           Tanzania          TZA   \n",
      "204                                             Uganda          UGA   \n",
      "205                                            Ukraine          UKR   \n",
      "206                                Upper middle income          UMC   \n",
      "207                                            Uruguay          URY   \n",
      "208                                      United States          USA   \n",
      "209                                         Uzbekistan          UZB   \n",
      "210                                      Venezuela, RB          VEN   \n",
      "211                                            Vietnam          VNM   \n",
      "212                                 West Bank and Gaza          PSE   \n",
      "213                                              World          WLD   \n",
      "214                                        Yemen, Rep.          YEM   \n",
      "215                                       South Africa          ZAF   \n",
      "216                                   Congo, Dem. Rep.          COD   \n",
      "217                                             Zambia          ZMB   \n",
      "218                                           Zimbabwe          ZWE   \n",
      "\n",
      "          2010       2011       2012       2013       2014  \n",
      "0    20.600000  20.900000  19.700001  21.100000  20.799999  \n",
      "1    10.800000  10.700000  10.700000  10.600000  10.500000  \n",
      "2    25.799999  27.000000  28.299999  28.700001  29.200001  \n",
      "3    25.022214  28.117516  29.113212  29.335306  29.704569  \n",
      "4     9.800000   9.800000   9.800000   9.900000  10.000000  \n",
      "5    19.500000  18.799999  18.400000  19.700001  21.299999  \n",
      "6    38.299999  38.700001  35.000000  32.500000  35.099998  \n",
      "7    11.400000  11.400000  11.700000  12.200000  13.100000  \n",
      "8     8.800000   8.200000   8.700000   9.100000   9.200000  \n",
      "9    14.600000  14.500000  14.300000  13.400000  13.600000  \n",
      "10   10.800000  10.800000  10.800000  10.800000  10.700000  \n",
      "11   22.500000  18.600000  19.700001  23.100000  23.600000  \n",
      "12    2.000000   2.000000   2.000000   1.800000   1.700000  \n",
      "13    5.200000   5.300000   5.200000   5.200000   5.000000  \n",
      "14    8.200000   8.200000   8.200000   8.900000   9.100000  \n",
      "15   22.900000  25.200001  28.200001  29.700001  25.900000  \n",
      "16   10.200000  11.400000  10.500000  10.600000  10.900000  \n",
      "17   36.000000  27.200001  30.400000  30.799999  30.100000  \n",
      "18   57.200001  57.099998  61.700001  57.400002  57.500000  \n",
      "19   13.200000  12.500000  11.800000  12.000000  12.000000  \n",
      "20   20.900000  24.299999  26.000000  22.400000  22.000000  \n",
      "21    6.000000   5.500000   5.500000   5.100000   5.200000  \n",
      "22   17.200001  15.200000  14.400000  14.700000  15.200000  \n",
      "23   25.299999  25.500000  26.500000  26.200001  26.799999  \n",
      "24   10.900000  10.900000  11.000000  11.300000  11.100000  \n",
      "25    8.400000   8.400000   6.400000  10.400000  10.000000  \n",
      "26   33.000000  33.200001  33.299999  32.799999  33.900002  \n",
      "27   10.800000  10.800000  10.700000  12.000000  11.900000  \n",
      "28   14.800000  14.100000  14.300000  13.800000  13.400000  \n",
      "29   24.558510  25.480771  26.322471  26.775459  24.326735  \n",
      "..         ...        ...        ...        ...        ...  \n",
      "189  11.010948  10.692483  10.893727  11.522896  11.806054  \n",
      "190  19.647734  19.002938  18.675706  18.284371  17.973493  \n",
      "191  10.800000  10.800000  10.700000  10.700000  10.700000  \n",
      "192   4.000000   2.900000   3.100000   3.200000   3.900000  \n",
      "193  17.299999  16.400000  15.400000  15.700000  15.500000  \n",
      "194  20.600000  21.000000  20.700001  20.600000  20.200001  \n",
      "195  15.166458  14.450044  13.707050  13.391827  14.041069  \n",
      "196  26.368876  29.578358  30.803950  31.105877  31.521788  \n",
      "197  13.100000  12.600000  13.400000  13.400000  14.000000  \n",
      "198   9.943293   9.995087  10.270674  10.189717  10.251149  \n",
      "199  14.652529  14.523908  14.503699  14.050604  14.124300  \n",
      "200  14.000000  11.200000  12.400000   9.100000  10.600000  \n",
      "201  29.400000  42.700001  32.799999  31.299999  31.799999  \n",
      "202  21.200001  17.900000  17.100000  16.500000  17.700001  \n",
      "203   5.600000   6.600000   6.000000   5.300000   5.500000  \n",
      "204   7.400000   7.400000   7.400000   7.400000   6.800000  \n",
      "205  17.400000  19.000000  17.299999  16.000000  16.900000  \n",
      "206  13.918079  13.779605  13.992812  14.086227  14.581009  \n",
      "207  20.799999  17.900000  18.500000  18.100000  19.100000  \n",
      "208  18.700001  17.400000  16.500000  15.800000  14.000000  \n",
      "209  20.600000  20.600000  20.600000  20.500000  20.299999  \n",
      "210  17.500000  17.400000  17.100000  14.800000  17.100000  \n",
      "211   6.100000   5.300000   5.000000   6.300000   6.300000  \n",
      "212  37.700001  34.099998  37.299999  38.700001  42.700001  \n",
      "213  13.784957  13.714673  13.874293  13.903832  13.987184  \n",
      "214  30.299999  30.000000  30.200001  30.200001  29.900000  \n",
      "215  50.799999  50.099998  52.200001  51.400002  52.599998  \n",
      "216  12.300000  12.300000  12.300000  12.200000  11.900000  \n",
      "217  26.400000  26.600000  26.600000  25.500000  25.100000  \n",
      "218   9.600000   8.300000   8.300000   8.900000   9.400000  \n",
      "\n",
      "[219 rows x 7 columns]\n"
     ]
    }
   ],
   "source": [
    "#reading csv file\n",
    "import pandas as pd\n",
    "df = pd.read_csv(r'C:\\Users\\Riyuzaki\\Desktop\\ML COURSE\\train1.csv')\n",
    "print(df)"
   ]
  },
  {
   "cell_type": "code",
   "execution_count": 8,
   "metadata": {},
   "outputs": [
    {
     "name": "stdout",
     "output_type": "stream",
     "text": [
      "24000\n",
      "4000\n"
     ]
    }
   ],
   "source": [
    "#numpy take < memory compare to list\n",
    "import numpy as np\n",
    "import time\n",
    "import sys\n",
    "s=range(1000)\n",
    "print(sys.getsizeof(s)*len(s))\n",
    "d=np.arange(1000)\n",
    "print(d.size*d.itemsize)"
   ]
  },
  {
   "cell_type": "code",
   "execution_count": 12,
   "metadata": {},
   "outputs": [
    {
     "name": "stdout",
     "output_type": "stream",
     "text": [
      "21.999597549438477\n",
      "10.000228881835938\n"
     ]
    }
   ],
   "source": [
    "#numpy take < time compare to list\n",
    "import numpy as np\n",
    "import time\n",
    "import sys\n",
    "\n",
    "l1 = range(100000)\n",
    "l2 = range(100000)\n",
    "a1 = np.arange(100000)\n",
    "a2 = np.arange(100000)\n",
    "start = time.time()\n",
    "result = [(x,y) for x,y in zip(l1,l2)]\n",
    "print((time.time()-start)*1000)\n",
    "start=time.time()\n",
    "result=a1+a2\n",
    "print((time.time()-start)*1000)"
   ]
  },
  {
   "cell_type": "code",
   "execution_count": 13,
   "metadata": {},
   "outputs": [
    {
     "name": "stdout",
     "output_type": "stream",
     "text": [
      "2\n",
      "4\n",
      "6\n",
      "8\n"
     ]
    }
   ],
   "source": [
    "#adding two list\n",
    "a=[1,2,3,4]\n",
    "b=[1,2,3,4]\n",
    "for x,y in zip(a,b):\n",
    "    print(x+y)"
   ]
  },
  {
   "cell_type": "code",
   "execution_count": null,
   "metadata": {},
   "outputs": [],
   "source": []
  }
 ],
 "metadata": {
  "kernelspec": {
   "display_name": "Python 3",
   "language": "python",
   "name": "python3"
  },
  "language_info": {
   "codemirror_mode": {
    "name": "ipython",
    "version": 3
   },
   "file_extension": ".py",
   "mimetype": "text/x-python",
   "name": "python",
   "nbconvert_exporter": "python",
   "pygments_lexer": "ipython3",
   "version": "3.7.3"
  }
 },
 "nbformat": 4,
 "nbformat_minor": 2
}
