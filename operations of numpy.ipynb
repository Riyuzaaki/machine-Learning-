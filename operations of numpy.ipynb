{
 "cells": [
  {
   "cell_type": "code",
   "execution_count": 6,
   "metadata": {},
   "outputs": [
    {
     "name": "stdout",
     "output_type": "stream",
     "text": [
      "2\n",
      "4\n",
      "int32\n",
      "10\n",
      "(2, 5)\n"
     ]
    }
   ],
   "source": [
    "#determine the dimension of array and creating 2d array\n",
    "import numpy as np\n",
    "a = np.array([(1,2,3,4,5),(1,2,3,4,5)])\n",
    "print(a.ndim) #dimension\n",
    "print(a.itemsize) #byte size\n",
    "print(a.dtype) #data type\n",
    "print(a.size) #size\n",
    "print(a.shape) #shape"
   ]
  },
  {
   "cell_type": "code",
   "execution_count": 9,
   "metadata": {},
   "outputs": [
    {
     "name": "stdout",
     "output_type": "stream",
     "text": [
      "[[1 2 3 4 5]\n",
      " [6 7 8 9 1]]\n",
      "[[1 2]\n",
      " [3 4]\n",
      " [5 6]\n",
      " [7 8]\n",
      " [9 1]]\n"
     ]
    }
   ],
   "source": [
    "#reshaping\n",
    "import numpy as np\n",
    "a=np.array([(1,2,3,4,5),(6,7,8,9,1)])\n",
    "print(a)\n",
    "a =a.reshape(5,2)\n",
    "print(a)"
   ]
  },
  {
   "cell_type": "code",
   "execution_count": 28,
   "metadata": {},
   "outputs": [
    {
     "name": "stdout",
     "output_type": "stream",
     "text": [
      "3\n",
      "[4 9]\n",
      "[4 9]\n",
      "8\n",
      "[1.  1.5 2.  2.5 3. ]\n"
     ]
    }
   ],
   "source": [
    "#slicing\n",
    "import numpy as np\n",
    "a=np.array([(1,2,3,4,5),(6,7,8,9,1)])\n",
    "print(a[0,2])\n",
    "print(a[0:,3])\n",
    "print(a[0:2,3])\n",
    "print(a[1][2])\n",
    "#linespacing \n",
    "b=np.linspace(1,3,5)\n",
    "print(b)"
   ]
  },
  {
   "cell_type": "code",
   "execution_count": 36,
   "metadata": {},
   "outputs": [
    {
     "name": "stdout",
     "output_type": "stream",
     "text": [
      "9\n",
      "1\n",
      "46\n",
      "[ 7  9 11 13  6]\n",
      "[15 31]\n",
      "[[1.         1.41421356 1.73205081 2.         2.23606798]\n",
      " [2.44948974 2.64575131 2.82842712 3.         1.        ]]\n",
      "2.727636339397171\n"
     ]
    }
   ],
   "source": [
    "import numpy as np\n",
    "a=np.array([(1,2,3,4,5),(6,7,8,9,1)])\n",
    "#maximum\n",
    "print(a.max())\n",
    "#minimum\n",
    "print(a.min())\n",
    "#sum\n",
    "print(a.sum())\n",
    "#sum of column\n",
    "print(a.sum(axis=0))\n",
    "#sum of row\n",
    "print(a.sum(axis=1))\n",
    "#squareroot\n",
    "print(np.sqrt(a))\n",
    "#standard deviation\n",
    "print(np.std(a))"
   ]
  },
  {
   "cell_type": "code",
   "execution_count": 44,
   "metadata": {},
   "outputs": [
    {
     "name": "stdout",
     "output_type": "stream",
     "text": [
      "[[ 2  4  6  8 10]\n",
      " [12 14 16 18  2]]\n",
      "[[0 0 0 0 0]\n",
      " [0 0 0 0 0]]\n",
      "[[ 1  4  9 16 25]\n",
      " [36 49 64 81  1]]\n",
      "[[1. 1. 1. 1. 1.]\n",
      " [1. 1. 1. 1. 1.]]\n",
      "[[1 2 3 4 5]\n",
      " [6 7 8 9 1]\n",
      " [1 2 3 4 5]\n",
      " [6 7 8 9 1]]\n",
      "[[1 2 3 4 5 1 2 3 4 5]\n",
      " [6 7 8 9 1 6 7 8 9 1]]\n",
      "[1 2 3 4 5 6 7 8 9 1]\n"
     ]
    }
   ],
   "source": [
    "import numpy as np\n",
    "a=np.array([(1,2,3,4,5),(6,7,8,9,1)])\n",
    "b=np.array([(1,2,3,4,5),(6,7,8,9,1)])\n",
    "#matrix summation\n",
    "print(a+b)\n",
    "#matrix subtraction\n",
    "print(a-b)\n",
    "#matrix multiplication\n",
    "print(a*b)\n",
    "#matrix division\n",
    "print(a/b)\n",
    "#concadination\n",
    "#1verticalstacking\n",
    "print(np.vstack((a,b)))\n",
    "#horizontalstacking\n",
    "print(np.hstack((a,b)))\n",
    "#converting 2d array to 1d\n",
    "print(a.ravel())"
   ]
  },
  {
   "cell_type": "code",
   "execution_count": null,
   "metadata": {},
   "outputs": [],
   "source": []
  },
  {
   "cell_type": "code",
   "execution_count": null,
   "metadata": {},
   "outputs": [],
   "source": []
  }
 ],
 "metadata": {
  "kernelspec": {
   "display_name": "Python 3",
   "language": "python",
   "name": "python3"
  },
  "language_info": {
   "codemirror_mode": {
    "name": "ipython",
    "version": 3
   },
   "file_extension": ".py",
   "mimetype": "text/x-python",
   "name": "python",
   "nbconvert_exporter": "python",
   "pygments_lexer": "ipython3",
   "version": "3.7.3"
  }
 },
 "nbformat": 4,
 "nbformat_minor": 2
}
